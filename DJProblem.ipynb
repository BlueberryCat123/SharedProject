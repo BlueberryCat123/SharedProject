{
 "cells": [
  {
   "cell_type": "code",
   "execution_count": 1,
   "metadata": {},
   "outputs": [],
   "source": [
    "import random\n",
    "import numpy as np\n",
    "from qiskit import transpile, QuantumCircuit\n",
    "from qiskit.providers.aer import AerSimulator\n",
    "from qiskit.visualization import plot_histogram"
   ]
  },
  {
   "cell_type": "code",
   "execution_count": 2,
   "metadata": {},
   "outputs": [],
   "source": [
    "def DJAlgorithm(oracle, nInput):\n",
    "    circ = QuantumCircuit(nInput + 1, nInput)\n",
    "    \n",
    "    circ.x(nInput)\n",
    "\n",
    "    for q in range(nInput + 1):\n",
    "        circ.h(q)\n",
    "\n",
    "    circ.append(oracle, range(nInput + 1))\n",
    "\n",
    "    for q in range(nInput):\n",
    "        circ.h(q)\n",
    "\n",
    "    for q in range(nInput):\n",
    "        circ.measure(q, q)\n",
    "\n",
    "    return circ"
   ]
  },
  {
   "cell_type": "code",
   "execution_count": 3,
   "metadata": {},
   "outputs": [],
   "source": [
    "def DJOracle(case, n):    # --- from IBM ---\n",
    "    # We need to make a QuantumCircuit object to return\n",
    "    # This circuit has n+1 qubits: the size of the input,\n",
    "    # plus one output qubit\n",
    "    oracle_qc = QuantumCircuit(n+1)\n",
    "\n",
    "    # First, let's deal with the case in which oracle is balanced\n",
    "    if case == \"balanced\":\n",
    "        # First generate a random number that tells us which CNOTs to\n",
    "        # wrap in X-gates:\n",
    "        b = np.random.randint(1, 2**n)\n",
    "        # Next, format 'b' as a binary string of length 'n', padded with zeros:\n",
    "        b_str = format(b, '0'+str(n)+'b')\n",
    "        # Next, we place the first X-gates. Each digit in our binary string\n",
    "        # corresponds to a qubit, if the digit is 0, we do nothing, if it's 1\n",
    "        # we apply an X-gate to that qubit:\n",
    "        for qubit in range(len(b_str)):\n",
    "            if b_str[qubit] == '1':\n",
    "                oracle_qc.x(qubit)\n",
    "        # Do the controlled-NOT gates for each qubit, using the output qubit\n",
    "        # as the target:\n",
    "        for qubit in range(n):\n",
    "            oracle_qc.cx(qubit, n)\n",
    "        # Next, place the final X-gates\n",
    "        for qubit in range(len(b_str)):\n",
    "            if b_str[qubit] == '1':\n",
    "                oracle_qc.x(qubit)\n",
    "\n",
    "    # Case in which oracle is constant\n",
    "    if case == \"constant\":\n",
    "        # First decide what the fixed output of the oracle will be\n",
    "        # (either always 0 or always 1)\n",
    "        output = np.random.randint(2)\n",
    "        if output == 1:\n",
    "            oracle_qc.x(n)\n",
    "\n",
    "    oracle_gate = oracle_qc.to_gate()\n",
    "    oracle_gate.name = \"Oracle\"  # To show when we display the circuit\n",
    "    return oracle_gate"
   ]
  },
  {
   "cell_type": "code",
   "execution_count": 4,
   "metadata": {},
   "outputs": [
    {
     "name": "stdout",
     "output_type": "stream",
     "text": [
      "Case is balanced\n"
     ]
    },
    {
     "data": {
      "text/html": [
       "<pre style=\"word-wrap: normal;white-space: pre;background: #fff0;line-height: 1.1;font-family: &quot;Courier New&quot;,Courier,monospace\">     ┌───┐     ┌─────────┐┌───┐┌─┐                     \n",
       "q_0: ┤ H ├─────┤0        ├┤ H ├┤M├─────────────────────\n",
       "     ├───┤     │         │├───┤└╥┘┌─┐                  \n",
       "q_1: ┤ H ├─────┤1        ├┤ H ├─╫─┤M├──────────────────\n",
       "     ├───┤     │         │├───┤ ║ └╥┘┌─┐               \n",
       "q_2: ┤ H ├─────┤2        ├┤ H ├─╫──╫─┤M├───────────────\n",
       "     ├───┤     │         │├───┤ ║  ║ └╥┘┌─┐            \n",
       "q_3: ┤ H ├─────┤3        ├┤ H ├─╫──╫──╫─┤M├────────────\n",
       "     ├───┤     │         │├───┤ ║  ║  ║ └╥┘┌─┐         \n",
       "q_4: ┤ H ├─────┤4 Oracle ├┤ H ├─╫──╫──╫──╫─┤M├─────────\n",
       "     ├───┤     │         │├───┤ ║  ║  ║  ║ └╥┘┌─┐      \n",
       "q_5: ┤ H ├─────┤5        ├┤ H ├─╫──╫──╫──╫──╫─┤M├──────\n",
       "     ├───┤     │         │├───┤ ║  ║  ║  ║  ║ └╥┘┌─┐   \n",
       "q_6: ┤ H ├─────┤6        ├┤ H ├─╫──╫──╫──╫──╫──╫─┤M├───\n",
       "     ├───┤     │         │├───┤ ║  ║  ║  ║  ║  ║ └╥┘┌─┐\n",
       "q_7: ┤ H ├─────┤7        ├┤ H ├─╫──╫──╫──╫──╫──╫──╫─┤M├\n",
       "     ├───┤┌───┐│         │└───┘ ║  ║  ║  ║  ║  ║  ║ └╥┘\n",
       "q_8: ┤ X ├┤ H ├┤8        ├──────╫──╫──╫──╫──╫──╫──╫──╫─\n",
       "     └───┘└───┘└─────────┘      ║  ║  ║  ║  ║  ║  ║  ║ \n",
       "c: 8/═══════════════════════════╩══╩══╩══╩══╩══╩══╩══╩═\n",
       "                                0  1  2  3  4  5  6  7 </pre>"
      ],
      "text/plain": [
       "     ┌───┐     ┌─────────┐┌───┐┌─┐                     \n",
       "q_0: ┤ H ├─────┤0        ├┤ H ├┤M├─────────────────────\n",
       "     ├───┤     │         │├───┤└╥┘┌─┐                  \n",
       "q_1: ┤ H ├─────┤1        ├┤ H ├─╫─┤M├──────────────────\n",
       "     ├───┤     │         │├───┤ ║ └╥┘┌─┐               \n",
       "q_2: ┤ H ├─────┤2        ├┤ H ├─╫──╫─┤M├───────────────\n",
       "     ├───┤     │         │├───┤ ║  ║ └╥┘┌─┐            \n",
       "q_3: ┤ H ├─────┤3        ├┤ H ├─╫──╫──╫─┤M├────────────\n",
       "     ├───┤     │         │├───┤ ║  ║  ║ └╥┘┌─┐         \n",
       "q_4: ┤ H ├─────┤4 Oracle ├┤ H ├─╫──╫──╫──╫─┤M├─────────\n",
       "     ├───┤     │         │├───┤ ║  ║  ║  ║ └╥┘┌─┐      \n",
       "q_5: ┤ H ├─────┤5        ├┤ H ├─╫──╫──╫──╫──╫─┤M├──────\n",
       "     ├───┤     │         │├───┤ ║  ║  ║  ║  ║ └╥┘┌─┐   \n",
       "q_6: ┤ H ├─────┤6        ├┤ H ├─╫──╫──╫──╫──╫──╫─┤M├───\n",
       "     ├───┤     │         │├───┤ ║  ║  ║  ║  ║  ║ └╥┘┌─┐\n",
       "q_7: ┤ H ├─────┤7        ├┤ H ├─╫──╫──╫──╫──╫──╫──╫─┤M├\n",
       "     ├───┤┌───┐│         │└───┘ ║  ║  ║  ║  ║  ║  ║ └╥┘\n",
       "q_8: ┤ X ├┤ H ├┤8        ├──────╫──╫──╫──╫──╫──╫──╫──╫─\n",
       "     └───┘└───┘└─────────┘      ║  ║  ║  ║  ║  ║  ║  ║ \n",
       "c: 8/═══════════════════════════╩══╩══╩══╩══╩══╩══╩══╩═\n",
       "                                0  1  2  3  4  5  6  7 "
      ]
     },
     "execution_count": 4,
     "metadata": {},
     "output_type": "execute_result"
    }
   ],
   "source": [
    "nInput = 8\n",
    "\n",
    "case = random.choice((\"balanced\", \"constant\"))\n",
    "print(\"Case is \" + case)\n",
    "\n",
    "oracleGate = DJOracle(case, nInput)\n",
    "\n",
    "circ = DJAlgorithm(oracleGate, nInput)\n",
    "\n",
    "circ.draw()"
   ]
  },
  {
   "cell_type": "code",
   "execution_count": 5,
   "metadata": {},
   "outputs": [
    {
     "data": {
      "image/png": "[encoded data removed]",
      "text/plain": [
       "<Figure size 504x360 with 1 Axes>"
      ]
     },
     "execution_count": 5,
     "metadata": {},
     "output_type": "execute_result"
    }
   ],
   "source": [
    "backend = AerSimulator()\n",
    "\n",
    "circ_compiled = transpile(circ, backend)\n",
    "\n",
    "job_sim = backend.run(circ_compiled, shots=1024)\n",
    "\n",
    "result_sim = job_sim.result()\n",
    "counts = result_sim.get_counts(circ_compiled)\n",
    "\n",
    "plot_histogram(counts)"
   ]
  }
 ],
 "metadata": {
  "kernelspec": {
   "display_name": "Python 3.8.8 64-bit",
   "language": "python",
   "name": "python3"
  },
  "language_info": {
   "codemirror_mode": {
    "name": "ipython",
    "version": 3
   },
   "file_extension": ".py",
   "mimetype": "text/x-python",
   "name": "python",
   "nbconvert_exporter": "python",
   "pygments_lexer": "ipython3",
   "version": "3.8.8"
  },
  "orig_nbformat": 4,
  "vscode": {
   "interpreter": {
    "hash": "5ecb8d60414bc0e3fbbca3ef659fa72e78bc28a818c842e6c0cea353ca2293e4"
   }
  }
 },
 "nbformat": 4,
 "nbformat_minor": 2
}
